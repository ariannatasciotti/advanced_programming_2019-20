{
 "cells": [
  {
   "cell_type": "markdown",
   "metadata": {},
   "source": [
    "**myrange**  \n",
    "Implement myrange that acts like range  \n",
    "    define a function myrange  \n",
    "    define a class MyRange  \n",
    "    \n",
    "    \n",
    "Remember to raise the right exception if too few (or too many) arguments are passed."
   ]
  },
  {
   "cell_type": "code",
   "execution_count": 1,
   "metadata": {},
   "outputs": [],
   "source": [
    "class MyRange():\n",
    "    \n",
    "    def __init__(self, start, stop, step=1):\n",
    "        self.range = range(start, stop, step)\n",
    "        \n",
    "    \n",
    "def myrange(*rng):\n",
    "   \n",
    "    if len(rng) < 1:\n",
    "        raise ValueError(\"too few arguments: at least 1\")\n",
    "    if len(rng) > 3:    \n",
    "        raise ValueError(\"too many arguments: at most 3\")\n",
    "    if len(rng) == 1:\n",
    "        return MyRange(0,rng[0]).range\n",
    "    if len(rng) == 2:\n",
    "        return MyRange(rng[0],rng[1]).range\n",
    "    if len(rng) == 3:\n",
    "        return MyRange(rng[0],rng[1],rng[2]).range"
   ]
  },
  {
   "cell_type": "code",
   "execution_count": 2,
   "metadata": {},
   "outputs": [
    {
     "name": "stdout",
     "output_type": "stream",
     "text": [
      "0\n",
      "1\n",
      "2\n",
      "3\n",
      "4\n",
      "5\n",
      "6\n",
      "7\n",
      "8\n",
      "9\n"
     ]
    }
   ],
   "source": [
    "for i in myrange(0,10):\n",
    "    print(i)"
   ]
  },
  {
   "cell_type": "markdown",
   "metadata": {},
   "source": [
    "**Context Manager**  \n",
    "Implement a Timer that exploiting __enter__ and __exit__ is able to measure the time spent in a portion of python code."
   ]
  },
  {
   "cell_type": "code",
   "execution_count": 3,
   "metadata": {},
   "outputs": [
    {
     "name": "stdout",
     "output_type": "stream",
     "text": [
      "Execution time: 0.1338911430000005 s\n",
      "Sum is: 499999500000\n"
     ]
    }
   ],
   "source": [
    "import time\n",
    "\n",
    "class Timer:\n",
    "    def __enter__(self):\n",
    "        self.start = time.perf_counter()\n",
    "    \n",
    "    def __exit__(self, exc_type, exc_value, exc_tb):\n",
    "        self.end = time.perf_counter()\n",
    "        runtime = self.end - self.start\n",
    "        print(\"Execution time:\", runtime, 's')\n",
    "\n",
    "sum = 0\n",
    "mytimer = Timer()\n",
    "with mytimer as timer:\n",
    "    for i in range(1000000):\n",
    "        sum += i \n",
    "print(\"Sum is:\",sum)"
   ]
  },
  {
   "cell_type": "markdown",
   "metadata": {},
   "source": [
    "**Unittest**  \n",
    "write several tests to test range and MyRange"
   ]
  },
  {
   "cell_type": "code",
   "execution_count": 4,
   "metadata": {},
   "outputs": [
    {
     "name": "stderr",
     "output_type": "stream",
     "text": [
      "E\n",
      "======================================================================\n",
      "ERROR: tests (__main__.TestMyRange)\n",
      "----------------------------------------------------------------------\n",
      "Traceback (most recent call last):\n",
      "  File \"<ipython-input-4-f6f91a29de2e>\", line 10, in tests\n",
      "    self.assertRaises(myrange(1,21,2,2))\n",
      "  File \"<ipython-input-1-47cc89b1d128>\", line 12, in myrange\n",
      "    raise ValueError(\"too many arguments: at most 3\")\n",
      "ValueError: too many arguments: at most 3\n",
      "\n",
      "----------------------------------------------------------------------\n",
      "Ran 1 test in 0.001s\n",
      "\n",
      "FAILED (errors=1)\n"
     ]
    }
   ],
   "source": [
    "import unittest\n",
    "\n",
    "class TestMyRange(unittest.TestCase):\n",
    "    \n",
    "    def tests(self):\n",
    "        self.assertEqual(myrange(100),range(100))\n",
    "        self.assertEqual(myrange(1,50),range(1,50))\n",
    "        self.assertEqual(myrange(10,80,2),range(10,80,2))\n",
    "        self.assertEqual(100,len(myrange(100)))\n",
    "        self.assertRaises(myrange(1,21,2,2))\n",
    "        self.assertRaises(myrange())\n",
    "\n",
    "if __name__ == '__main__':\n",
    "    unittest.main(argv=['first-arg-is-ignored'],exit=False)"
   ]
  }
 ],
 "metadata": {
  "kernelspec": {
   "display_name": "Python 3",
   "language": "python",
   "name": "python3"
  },
  "language_info": {
   "codemirror_mode": {
    "name": "ipython",
    "version": 3
   },
   "file_extension": ".py",
   "mimetype": "text/x-python",
   "name": "python",
   "nbconvert_exporter": "python",
   "pygments_lexer": "ipython3",
   "version": "3.7.5"
  }
 },
 "nbformat": 4,
 "nbformat_minor": 2
}
