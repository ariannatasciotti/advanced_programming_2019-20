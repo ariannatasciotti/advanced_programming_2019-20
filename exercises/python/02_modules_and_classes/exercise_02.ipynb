{
 "cells": [
  {
   "cell_type": "markdown",
   "metadata": {},
   "source": [
    "**Lambda**  \n",
    "\n",
    "Given a list of words (str), construct a new ordered list from the former where words are sorted by their reversed spelling using a lambda function.\n",
    "Hint: use sorted and its keyword argument key"
   ]
  },
  {
   "cell_type": "code",
   "execution_count": 1,
   "metadata": {},
   "outputs": [
    {
     "data": {
      "text/plain": [
       "['mamma', 'mac', 'code', 'program', 'python']"
      ]
     },
     "execution_count": 1,
     "metadata": {},
     "output_type": "execute_result"
    }
   ],
   "source": [
    "words = ['python', 'program', 'code', 'mac', 'mamma']\n",
    "sorted_reverse = sorted(words, key=lambda i: i[::-1])\n",
    "sorted_reverse"
   ]
  },
  {
   "cell_type": "markdown",
   "metadata": {},
   "source": [
    "**Sequence**  \n",
    "\n",
    "Write a class Sequence.  \n",
    "Constructor takes an iterable. Internally, use a list  \n",
    "Find the way to support the following syntax  \n",
    "s = Sequence(range(10))  \n",
    "print(s) prints all the elements (hint: __str__)  \n",
    "len(s) (hint: __len__)  \n",
    "s == other_s (hint: __eq__, all)  \n",
    "print(s[-1]) (hint: __getitem__)  \n",
    "s[0] = 1 (hint: __setitem__)  \n",
    "del s[1:4:2] (hint: __delitem__)  \n",
    "for x in s (hints: __iter__, iter)  \n",
    "s.insert(position, value)  \n",
    "s.append(value)  \n",
    "s2 = copy.copy(s1) is a **deepcopy ** (hint: __copy__)  "
   ]
  },
  {
   "cell_type": "code",
   "execution_count": 2,
   "metadata": {},
   "outputs": [],
   "source": [
    "import copy\n",
    "\n",
    "class Sequence:\n",
    "    \n",
    "    def __init__(self,iterable):\n",
    "        self._iterable = list(copy.deepcopy(iterable))\n",
    "        \n",
    "    def __str__(self):\n",
    "        return str(self._iterable)\n",
    "    \n",
    "    def __len__(self):\n",
    "        return len(self._iterable)\n",
    "    \n",
    "    def __eq__(self,other):\n",
    "        return self._iterable == other._iterable\n",
    "    \n",
    "    def __getitem__(self,index):\n",
    "        return self._iterable[index]\n",
    "    \n",
    "    def __setitem__(self,key,value):\n",
    "        self._iterable[key] = value\n",
    "        \n",
    "    def __delitem__(self,index):\n",
    "        del self._iterable[index]\n",
    "    \n",
    "    def __iter__(self):\n",
    "        return iter(self._iterable)\n",
    "    \n",
    "    def insert(self,key,value):\n",
    "         self._iterable.insert(key,value)\n",
    "    \n",
    "    def append(self,value):\n",
    "         self._iterable.append(value)\n",
    "    \n",
    "    def __copy__(self):\n",
    "        return copy.deepcopy(self._iterable)"
   ]
  },
  {
   "cell_type": "code",
   "execution_count": 3,
   "metadata": {},
   "outputs": [
    {
     "name": "stdout",
     "output_type": "stream",
     "text": [
      "[0, 1, 2, 3, 4, 5, 6, 7, 8, 9]\n"
     ]
    }
   ],
   "source": [
    "s = Sequence(range(10))\n",
    "print(s)"
   ]
  },
  {
   "cell_type": "code",
   "execution_count": 4,
   "metadata": {},
   "outputs": [
    {
     "data": {
      "text/plain": [
       "10"
      ]
     },
     "execution_count": 4,
     "metadata": {},
     "output_type": "execute_result"
    }
   ],
   "source": [
    "len(s)"
   ]
  },
  {
   "cell_type": "code",
   "execution_count": 5,
   "metadata": {},
   "outputs": [
    {
     "data": {
      "text/plain": [
       "False"
      ]
     },
     "execution_count": 5,
     "metadata": {},
     "output_type": "execute_result"
    }
   ],
   "source": [
    "other_s = Sequence(range(9))\n",
    "s == other_s"
   ]
  },
  {
   "cell_type": "code",
   "execution_count": 6,
   "metadata": {},
   "outputs": [
    {
     "name": "stdout",
     "output_type": "stream",
     "text": [
      "9\n"
     ]
    }
   ],
   "source": [
    "print(s[-1])"
   ]
  },
  {
   "cell_type": "code",
   "execution_count": 7,
   "metadata": {},
   "outputs": [
    {
     "name": "stdout",
     "output_type": "stream",
     "text": [
      "[1, 1, 2, 3, 4, 5, 6, 7, 8, 9]\n"
     ]
    }
   ],
   "source": [
    "s[0] = 1\n",
    "print(s)"
   ]
  },
  {
   "cell_type": "code",
   "execution_count": 8,
   "metadata": {},
   "outputs": [
    {
     "name": "stdout",
     "output_type": "stream",
     "text": [
      "[1, 2, 4, 5, 6, 7, 8, 9]\n"
     ]
    }
   ],
   "source": [
    "del s[1:4:2]\n",
    "print(s)"
   ]
  },
  {
   "cell_type": "code",
   "execution_count": 9,
   "metadata": {},
   "outputs": [
    {
     "name": "stdout",
     "output_type": "stream",
     "text": [
      "1\n",
      "2\n",
      "4\n",
      "5\n",
      "6\n",
      "7\n",
      "8\n",
      "9\n"
     ]
    }
   ],
   "source": [
    "for x in s:\n",
    "    print(x)"
   ]
  },
  {
   "cell_type": "code",
   "execution_count": 10,
   "metadata": {},
   "outputs": [
    {
     "name": "stdout",
     "output_type": "stream",
     "text": [
      "[1, 2, 4, 5, 100, 6, 7, 8, 9]\n"
     ]
    }
   ],
   "source": [
    "s.insert(4, 100)\n",
    "print(s)"
   ]
  },
  {
   "cell_type": "code",
   "execution_count": 11,
   "metadata": {},
   "outputs": [
    {
     "name": "stdout",
     "output_type": "stream",
     "text": [
      "[1, 2, 4, 5, 100, 6, 7, 8, 9, 11]\n"
     ]
    }
   ],
   "source": [
    "s.append(11)\n",
    "print(s)"
   ]
  },
  {
   "cell_type": "code",
   "execution_count": 12,
   "metadata": {},
   "outputs": [
    {
     "name": "stdout",
     "output_type": "stream",
     "text": [
      "[1, 2, 4, 5, 100, 6, 7, 8, 9, 11]\n"
     ]
    }
   ],
   "source": [
    "s2 = copy.copy(s) \n",
    "print(s2)"
   ]
  }
 ],
 "metadata": {
  "kernelspec": {
   "display_name": "Python 3",
   "language": "python",
   "name": "python3"
  },
  "language_info": {
   "codemirror_mode": {
    "name": "ipython",
    "version": 3
   },
   "file_extension": ".py",
   "mimetype": "text/x-python",
   "name": "python",
   "nbconvert_exporter": "python",
   "pygments_lexer": "ipython3",
   "version": "3.7.5"
  }
 },
 "nbformat": 4,
 "nbformat_minor": 2
}
